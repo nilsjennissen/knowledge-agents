{
 "cells": [
  {
   "cell_type": "markdown",
   "source": [
    "# LangChain Application 1: Simple CSV Loader"
   ],
   "metadata": {
    "collapsed": false
   }
  },
  {
   "cell_type": "code",
   "execution_count": 1,
   "metadata": {
    "collapsed": true,
    "ExecuteTime": {
     "end_time": "2023-05-05T10:36:38.705507Z",
     "start_time": "2023-05-05T10:36:35.306056Z"
    }
   },
   "outputs": [
    {
     "name": "stdout",
     "output_type": "stream",
     "text": [
      "Requirement already satisfied: tiktoken in /Users/nilsjennissen/.conda/envs/knowledge-agents/lib/python3.10/site-packages (0.3.3)\r\n",
      "Requirement already satisfied: regex>=2022.1.18 in /Users/nilsjennissen/.conda/envs/knowledge-agents/lib/python3.10/site-packages (from tiktoken) (2023.3.23)\r\n",
      "Requirement already satisfied: requests>=2.26.0 in /Users/nilsjennissen/.conda/envs/knowledge-agents/lib/python3.10/site-packages (from tiktoken) (2.28.2)\r\n",
      "Requirement already satisfied: charset-normalizer<4,>=2 in /Users/nilsjennissen/.conda/envs/knowledge-agents/lib/python3.10/site-packages (from requests>=2.26.0->tiktoken) (3.1.0)\r\n",
      "Requirement already satisfied: idna<4,>=2.5 in /Users/nilsjennissen/.conda/envs/knowledge-agents/lib/python3.10/site-packages (from requests>=2.26.0->tiktoken) (3.4)\r\n",
      "Requirement already satisfied: urllib3<1.27,>=1.21.1 in /Users/nilsjennissen/.conda/envs/knowledge-agents/lib/python3.10/site-packages (from requests>=2.26.0->tiktoken) (1.26.15)\r\n",
      "Requirement already satisfied: certifi>=2017.4.17 in /Users/nilsjennissen/.conda/envs/knowledge-agents/lib/python3.10/site-packages (from requests>=2.26.0->tiktoken) (2022.12.7)\r\n"
     ]
    }
   ],
   "source": [
    "#!pip install -q langchain openai chromadb\n",
    "#!pip install tiktoken"
   ]
  },
  {
   "cell_type": "code",
   "execution_count": 10,
   "outputs": [],
   "source": [
    "# Import the necessary modules\n",
    "from langchain.document_loaders import CSVLoader\n",
    "from langchain.indexes import VectorstoreIndexCreator\n",
    "from langchain.chains import RetrievalQA\n",
    "from langchain.llms import OpenAI\n",
    "from credentials import OPENAI_API_KEY\n",
    "import os"
   ],
   "metadata": {
    "collapsed": false,
    "ExecuteTime": {
     "end_time": "2023-05-12T21:32:21.291058Z",
     "start_time": "2023-05-12T21:32:21.288261Z"
    }
   }
  },
  {
   "cell_type": "code",
   "execution_count": 20,
   "outputs": [],
   "source": [
    "# Setting the API Key for OpenAI\n",
    "os.environ[\"OPENAI_API_KEY\"] = OPENAI_API_KEY"
   ],
   "metadata": {
    "collapsed": false,
    "ExecuteTime": {
     "end_time": "2023-05-12T22:05:46.179525Z",
     "start_time": "2023-05-12T22:05:46.175881Z"
    }
   }
  },
  {
   "cell_type": "code",
   "execution_count": 22,
   "outputs": [],
   "source": [
    "# Load the documents\n",
    "loader = CSVLoader(file_path='../data/directory1.csv')"
   ],
   "metadata": {
    "collapsed": false,
    "ExecuteTime": {
     "end_time": "2023-05-12T22:06:05.805585Z",
     "start_time": "2023-05-12T22:06:05.800595Z"
    }
   }
  },
  {
   "cell_type": "code",
   "execution_count": 23,
   "outputs": [
    {
     "name": "stderr",
     "output_type": "stream",
     "text": [
      "Using embedded DuckDB without persistence: data will be transient\n"
     ]
    }
   ],
   "source": [
    "# Create an index using the loaded documents\n",
    "index_creator = VectorstoreIndexCreator()\n",
    "docsearch = index_creator.from_loaders([loader])"
   ],
   "metadata": {
    "collapsed": false,
    "ExecuteTime": {
     "end_time": "2023-05-12T22:06:09.653100Z",
     "start_time": "2023-05-12T22:06:06.579116Z"
    }
   }
  },
  {
   "cell_type": "code",
   "execution_count": 24,
   "outputs": [],
   "source": [
    "# Create a question-answering chain using the index\n",
    "chain = RetrievalQA.from_chain_type(llm=OpenAI(), chain_type=\"stuff\", retriever=docsearch.vectorstore.as_retriever(), input_key=\"question\")"
   ],
   "metadata": {
    "collapsed": false,
    "ExecuteTime": {
     "end_time": "2023-05-12T22:06:09.674531Z",
     "start_time": "2023-05-12T22:06:09.664199Z"
    }
   }
  },
  {
   "cell_type": "code",
   "execution_count": 28,
   "outputs": [
    {
     "name": "stdout",
     "output_type": "stream",
     "text": [
      " Three\n"
     ]
    }
   ],
   "source": [
    "# Pass a query to the chain\n",
    "query = \"How many pdf documents are there?\"\n",
    "response = chain({\"question\": query})\n",
    "# Print the response\n",
    "print(response['result'])"
   ],
   "metadata": {
    "collapsed": false,
    "ExecuteTime": {
     "end_time": "2023-05-12T22:08:56.886911Z",
     "start_time": "2023-05-12T22:08:55.954793Z"
    }
   }
  },
  {
   "cell_type": "code",
   "execution_count": 18,
   "outputs": [
    {
     "data": {
      "text/plain": "' The face.jpg file is not mentioned in the context provided so it is not possible to answer this question.'"
     },
     "execution_count": 18,
     "metadata": {},
     "output_type": "execute_result"
    }
   ],
   "source": [
    "# And all together now\n",
    "query = \"Where is the face.jpg file?\"\n",
    "def ask_question(query):\n",
    "    response = chain({\"question\": query})\n",
    "    return response['result']\n",
    "ask_question(query)"
   ],
   "metadata": {
    "collapsed": false,
    "ExecuteTime": {
     "end_time": "2023-05-12T21:42:46.302499Z",
     "start_time": "2023-05-12T21:42:43.711036Z"
    }
   }
  },
  {
   "cell_type": "code",
   "execution_count": null,
   "outputs": [],
   "source": [],
   "metadata": {
    "collapsed": false
   }
  }
 ],
 "metadata": {
  "kernelspec": {
   "display_name": "Python 3",
   "language": "python",
   "name": "python3"
  },
  "language_info": {
   "codemirror_mode": {
    "name": "ipython",
    "version": 2
   },
   "file_extension": ".py",
   "mimetype": "text/x-python",
   "name": "python",
   "nbconvert_exporter": "python",
   "pygments_lexer": "ipython2",
   "version": "2.7.6"
  }
 },
 "nbformat": 4,
 "nbformat_minor": 0
}
