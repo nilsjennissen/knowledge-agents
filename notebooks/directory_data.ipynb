{
 "cells": [
  {
   "cell_type": "code",
   "execution_count": 8,
   "outputs": [],
   "source": [
    "# Import Library\n",
    "import pandas as pd\n",
    "import numpy as np\n",
    "import matplotlib.pyplot as plt"
   ],
   "metadata": {
    "collapsed": false,
    "ExecuteTime": {
     "end_time": "2023-05-12T22:05:05.935761Z",
     "start_time": "2023-05-12T22:05:05.931896Z"
    }
   }
  },
  {
   "cell_type": "code",
   "execution_count": 9,
   "metadata": {
    "collapsed": true,
    "ExecuteTime": {
     "end_time": "2023-05-12T22:05:06.921473Z",
     "start_time": "2023-05-12T22:05:06.893252Z"
    }
   },
   "outputs": [],
   "source": [
    "# Import Dataset\n",
    "df1 = pd.read_csv('../data/directory1.csv')\n",
    "df2 = pd.read_csv('../data/directory2.csv')\n",
    "df3 = pd.read_csv('../data/directory3.csv')"
   ]
  },
  {
   "cell_type": "code",
   "execution_count": 10,
   "outputs": [
    {
     "name": "stdout",
     "output_type": "stream",
     "text": [
      "292\n",
      "1699\n",
      "1889\n"
     ]
    }
   ],
   "source": [
    "# Compare length of dataframes\n",
    "print(len(df1))\n",
    "print(len(df2))\n",
    "print(len(df3))\n"
   ],
   "metadata": {
    "collapsed": false,
    "ExecuteTime": {
     "end_time": "2023-05-12T22:05:08.137119Z",
     "start_time": "2023-05-12T22:05:08.131057Z"
    }
   }
  },
  {
   "cell_type": "code",
   "execution_count": null,
   "outputs": [],
   "source": [],
   "metadata": {
    "collapsed": false
   }
  }
 ],
 "metadata": {
  "kernelspec": {
   "display_name": "Python 3",
   "language": "python",
   "name": "python3"
  },
  "language_info": {
   "codemirror_mode": {
    "name": "ipython",
    "version": 2
   },
   "file_extension": ".py",
   "mimetype": "text/x-python",
   "name": "python",
   "nbconvert_exporter": "python",
   "pygments_lexer": "ipython2",
   "version": "2.7.6"
  }
 },
 "nbformat": 4,
 "nbformat_minor": 0
}
