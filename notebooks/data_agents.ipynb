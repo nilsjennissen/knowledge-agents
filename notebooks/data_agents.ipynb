{
 "cells": [
  {
   "cell_type": "markdown",
   "source": [
    "# LangChain Application 1: CSV Loader"
   ],
   "metadata": {
    "collapsed": false
   }
  },
  {
   "cell_type": "code",
   "execution_count": 9,
   "metadata": {
    "collapsed": true,
    "ExecuteTime": {
     "start_time": "2023-04-28T02:50:17.078238Z",
     "end_time": "2023-04-28T02:50:20.994942Z"
    }
   },
   "outputs": [
    {
     "name": "stdout",
     "output_type": "stream",
     "text": [
      "Collecting tiktoken\r\n",
      "  Downloading tiktoken-0.3.3-cp310-cp310-macosx_10_9_x86_64.whl (735 kB)\r\n",
      "\u001B[2K     \u001B[90m━━━━━━━━━━━━━━━━━━━━━━━━━━━━━━━━━━━━━━━\u001B[0m \u001B[32m735.6/735.6 kB\u001B[0m \u001B[31m9.4 MB/s\u001B[0m eta \u001B[36m0:00:00\u001B[0m00:01\u001B[0m00:01\u001B[0m\r\n",
      "\u001B[?25hRequirement already satisfied: regex>=2022.1.18 in /Users/nilsjennissen/.conda/envs/knowledge-agents/lib/python3.10/site-packages (from tiktoken) (2023.3.23)\r\n",
      "Requirement already satisfied: requests>=2.26.0 in /Users/nilsjennissen/.conda/envs/knowledge-agents/lib/python3.10/site-packages (from tiktoken) (2.28.2)\r\n",
      "Requirement already satisfied: charset-normalizer<4,>=2 in /Users/nilsjennissen/.conda/envs/knowledge-agents/lib/python3.10/site-packages (from requests>=2.26.0->tiktoken) (3.1.0)\r\n",
      "Requirement already satisfied: idna<4,>=2.5 in /Users/nilsjennissen/.conda/envs/knowledge-agents/lib/python3.10/site-packages (from requests>=2.26.0->tiktoken) (3.4)\r\n",
      "Requirement already satisfied: urllib3<1.27,>=1.21.1 in /Users/nilsjennissen/.conda/envs/knowledge-agents/lib/python3.10/site-packages (from requests>=2.26.0->tiktoken) (1.26.15)\r\n",
      "Requirement already satisfied: certifi>=2017.4.17 in /Users/nilsjennissen/.conda/envs/knowledge-agents/lib/python3.10/site-packages (from requests>=2.26.0->tiktoken) (2022.12.7)\r\n",
      "Installing collected packages: tiktoken\r\n",
      "Successfully installed tiktoken-0.3.3\r\n"
     ]
    }
   ],
   "source": [
    "!pip install -q langchain openai chromadb\n",
    "!pip install tiktoken"
   ]
  },
  {
   "cell_type": "code",
   "execution_count": 32,
   "outputs": [],
   "source": [
    "# Import the necessary modules\n",
    "from langchain.document_loaders import CSVLoader\n",
    "from langchain.indexes import VectorstoreIndexCreator\n",
    "from langchain.chains import RetrievalQA\n",
    "from langchain.llms import OpenAI\n",
    "from credentials import OPENAI_API_KEY\n",
    "import os"
   ],
   "metadata": {
    "collapsed": false,
    "ExecuteTime": {
     "start_time": "2023-04-28T03:47:24.115437Z",
     "end_time": "2023-04-28T03:47:24.119286Z"
    }
   }
  },
  {
   "cell_type": "code",
   "execution_count": 33,
   "outputs": [],
   "source": [
    "# Setting the API Key for OpenAI\n",
    "os.environ[\"OPENAI_API_KEY\"] = OPENAI_API_KEY"
   ],
   "metadata": {
    "collapsed": false,
    "ExecuteTime": {
     "start_time": "2023-04-28T03:47:25.085520Z",
     "end_time": "2023-04-28T03:47:25.089603Z"
    }
   }
  },
  {
   "cell_type": "code",
   "execution_count": 34,
   "outputs": [],
   "source": [
    "# Load the documents\n",
    "loader = CSVLoader(file_path='../data/directory.csv')"
   ],
   "metadata": {
    "collapsed": false,
    "ExecuteTime": {
     "start_time": "2023-04-28T03:47:26.119979Z",
     "end_time": "2023-04-28T03:47:26.124127Z"
    }
   }
  },
  {
   "cell_type": "code",
   "execution_count": 35,
   "outputs": [
    {
     "name": "stderr",
     "output_type": "stream",
     "text": [
      "Using embedded DuckDB without persistence: data will be transient\n"
     ]
    }
   ],
   "source": [
    "# Create an index using the loaded documents\n",
    "index_creator = VectorstoreIndexCreator()\n",
    "docsearch = index_creator.from_loaders([loader])"
   ],
   "metadata": {
    "collapsed": false,
    "ExecuteTime": {
     "start_time": "2023-04-28T03:47:27.390029Z",
     "end_time": "2023-04-28T03:47:28.562735Z"
    }
   }
  },
  {
   "cell_type": "code",
   "execution_count": 36,
   "outputs": [],
   "source": [
    "# Create a question-answering chain using the index\n",
    "chain = RetrievalQA.from_chain_type(llm=OpenAI(), chain_type=\"stuff\", retriever=docsearch.vectorstore.as_retriever(), input_key=\"question\")"
   ],
   "metadata": {
    "collapsed": false,
    "ExecuteTime": {
     "start_time": "2023-04-28T03:47:30.256551Z",
     "end_time": "2023-04-28T03:47:30.275467Z"
    }
   }
  },
  {
   "cell_type": "code",
   "execution_count": 39,
   "outputs": [
    {
     "name": "stdout",
     "output_type": "stream",
     "text": [
      " /Users/nilsjennissen/PycharmProjects/simulations/gifs/\n"
     ]
    }
   ],
   "source": [
    "# Pass a query to the chain\n",
    "query = \"In what folder is the animation.gif\"\n",
    "response = chain({\"question\": query})\n",
    "# Print the response\n",
    "print(response['result'])"
   ],
   "metadata": {
    "collapsed": false,
    "ExecuteTime": {
     "start_time": "2023-04-28T03:48:46.415806Z",
     "end_time": "2023-04-28T03:48:48.666145Z"
    }
   }
  },
  {
   "cell_type": "code",
   "execution_count": 23,
   "outputs": [
    {
     "data": {
      "text/plain": "\" No, I don't have a column called age.\""
     },
     "execution_count": 23,
     "metadata": {},
     "output_type": "execute_result"
    }
   ],
   "source": [
    "# And all together now\n",
    "query = \"Do you have a column called age?\"\n",
    "def ask_question(query):\n",
    "    response = chain({\"question\": query})\n",
    "    return response['result']\n",
    "ask_question(query)"
   ],
   "metadata": {
    "collapsed": false,
    "ExecuteTime": {
     "start_time": "2023-04-28T03:43:12.060238Z",
     "end_time": "2023-04-28T03:43:14.097314Z"
    }
   }
  },
  {
   "cell_type": "code",
   "execution_count": null,
   "outputs": [],
   "source": [],
   "metadata": {
    "collapsed": false
   }
  }
 ],
 "metadata": {
  "kernelspec": {
   "display_name": "Python 3",
   "language": "python",
   "name": "python3"
  },
  "language_info": {
   "codemirror_mode": {
    "name": "ipython",
    "version": 2
   },
   "file_extension": ".py",
   "mimetype": "text/x-python",
   "name": "python",
   "nbconvert_exporter": "python",
   "pygments_lexer": "ipython2",
   "version": "2.7.6"
  }
 },
 "nbformat": 4,
 "nbformat_minor": 0
}
